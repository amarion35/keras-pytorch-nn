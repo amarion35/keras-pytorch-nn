{
 "cells": [
  {
   "cell_type": "markdown",
   "metadata": {},
   "source": [
    "# Import datas"
   ]
  },
  {
   "cell_type": "code",
   "execution_count": 1,
   "metadata": {},
   "outputs": [
    {
     "data": {
      "text/plain": [
       "((1797, 64), (1797,))"
      ]
     },
     "execution_count": 1,
     "metadata": {},
     "output_type": "execute_result"
    }
   ],
   "source": [
    "from sklearn.datasets import load_digits\n",
    "from sklearn.preprocessing import OneHotEncoder\n",
    "import numpy as np\n",
    "\n",
    "digits = load_digits()\n",
    "X = digits['data']\n",
    "Y = digits['target']\n",
    "\n",
    "#enc = OneHotEncoder()\n",
    "#Y = enc.fit_transform(Y.reshape(-1, 1))\n",
    "\n",
    "X.shape, Y.shape"
   ]
  },
  {
   "cell_type": "code",
   "execution_count": 2,
   "metadata": {},
   "outputs": [
    {
     "data": {
      "text/plain": [
       "((1257, 64), (540, 64), (1257,), (540,))"
      ]
     },
     "execution_count": 2,
     "metadata": {},
     "output_type": "execute_result"
    }
   ],
   "source": [
    "from sklearn.model_selection import train_test_split\n",
    "X_train, X_test, Y_train, Y_test = train_test_split(X, Y, test_size=0.3, random_state=42)\n",
    "X_train.shape, X_test.shape, Y_train.shape, Y_test.shape"
   ]
  },
  {
   "cell_type": "code",
   "execution_count": 3,
   "metadata": {},
   "outputs": [
    {
     "data": {
      "text/plain": [
       "<Figure size 640x480 with 1 Axes>"
      ]
     },
     "metadata": {},
     "output_type": "display_data"
    }
   ],
   "source": [
    "import matplotlib.pyplot as plt\n",
    "i = np.random.choice(range(len(X_train)))\n",
    "plt.imshow(X_train[i].reshape(8,8))\n",
    "plt.title(Y_train[i])\n",
    "plt.show()"
   ]
  },
  {
   "cell_type": "markdown",
   "metadata": {},
   "source": [
    "# Define PyTorch model"
   ]
  },
  {
   "cell_type": "code",
   "execution_count": 24,
   "metadata": {},
   "outputs": [
    {
     "name": "stdout",
     "output_type": "stream",
     "text": [
      "Model(\n",
      "  (dense1): Linear(in_features=64, out_features=16, bias=True)\n",
      "  (relu1): ReLU()\n",
      "  (dropout1): Dropout(p=0.3)\n",
      "  (dense2): Linear(in_features=16, out_features=10, bias=True)\n",
      "  (softmax): Softmax()\n",
      ")\n"
     ]
    }
   ],
   "source": [
    "import torch\n",
    "import torch.nn as nn\n",
    "import torch.optim as optim\n",
    "import torch.nn.functional as F\n",
    "\n",
    "class Model(nn.Module):\n",
    "    def __init__(self, n_features):\n",
    "        super(Model, self).__init__()\n",
    "        self.dense1 = nn.Linear(n_features, 16).double()\n",
    "        self.relu1 = nn.ReLU().double()\n",
    "        self.dropout1 = nn.Dropout(0.3).double()\n",
    "        self.dense2 = nn.Linear(16, 10).double()\n",
    "        self.softmax = nn.Softmax().double()\n",
    "        self.history = {}\n",
    "        \n",
    "    def forward(self, x):\n",
    "        out = x\n",
    "        out = self.dense1(out)\n",
    "        out = self.relu1(out)\n",
    "        out = self.dropout1(out)\n",
    "        out = self.dense2(out)\n",
    "        out = self.softmax(out)\n",
    "        return out\n",
    "    \n",
    "    def fit(self, X, Y, epochs, batch_size, validation_data=None):\n",
    "        \n",
    "        Loss = nn.CrossEntropyLoss(reduction='mean')\n",
    "        \n",
    "        def Accuracy(x,y):\n",
    "            return (x.argmax(dim=1)==y).sum().float()/len(x)\n",
    "        \n",
    "        \n",
    "        input = torch.tensor(X, requires_grad=True, dtype=torch.double)\n",
    "        target = torch.tensor(Y, dtype=torch.long)\n",
    "        \n",
    "        if not validation_data is None:\n",
    "            val_input = torch.tensor(validation_data[0], dtype=torch.double)\n",
    "            val_target = torch.tensor(validation_data[1], dtype=torch.long)\n",
    "        \n",
    "        self.history['loss'] = []\n",
    "        self.history['acc'] = []\n",
    "        if not validation_data is None: self.history['val_loss'] = []\n",
    "        if not validation_data is None: self.history['val_acc'] = []\n",
    "    \n",
    "        optimizer = optim.Adam(model.parameters(), lr=0.005, betas=(0.9, 0.999), eps=1e-08)\n",
    "        #optimizer = optim.SGD(model.parameters(), lr=0.001, momentum=0.9)\n",
    "        \n",
    "        n_batch = np.ceil(len(X)/batch_size)\n",
    "        indices = np.arange(len(X))\n",
    "        for i in range(epochs):\n",
    "            np.random.shuffle(indices)\n",
    "            batches = np.array_split(indices, n_batch)\n",
    "            for b in batches:\n",
    "                out = model(input[b])\n",
    "                loss = Loss(out, target[b])\n",
    "                optimizer.zero_grad()\n",
    "                loss.backward()\n",
    "                optimizer.step()\n",
    "            \n",
    "            out = model(input)\n",
    "            loss = Loss(out, target)\n",
    "            acc = Accuracy(out, target)\n",
    "            self.history['loss'].append(loss.data.numpy())\n",
    "            self.history['acc'].append(acc)\n",
    "            if not validation_data is None:\n",
    "                val_out = model(val_input)\n",
    "                val_loss = Loss(val_out, val_target)\n",
    "                val_acc = Accuracy(val_out, val_target)\n",
    "                self.history['val_loss'].append(val_loss.data.numpy())\n",
    "                self.history['val_acc'].append(val_acc)\n",
    "                \n",
    "def init(m):\n",
    "    classname = m.__class__.__name__\n",
    "    if classname.find('Linear') != -1:\n",
    "        m.weight.data.uniform_(-1, 1)\n",
    "        m.bias.data.zero_()\n",
    "                \n",
    "model = Model(n_features=64)\n",
    "model.apply(init)\n",
    "\n",
    "print(model)"
   ]
  },
  {
   "cell_type": "markdown",
   "metadata": {},
   "source": [
    "# Train Model"
   ]
  },
  {
   "cell_type": "code",
   "execution_count": 25,
   "metadata": {},
   "outputs": [
    {
     "name": "stderr",
     "output_type": "stream",
     "text": [
      "c:\\users\\am259593\\appdata\\local\\continuum\\anaconda3\\envs\\terpret\\lib\\site-packages\\ipykernel_launcher.py:22: UserWarning: Implicit dimension choice for softmax has been deprecated. Change the call to include dim=X as an argument.\n"
     ]
    }
   ],
   "source": [
    "model.fit(X_train, Y_train,\n",
    "          epochs=1000,\n",
    "          batch_size=128,\n",
    "          validation_data=(X_test, Y_test)\n",
    "         )\n",
    "hist = model.history"
   ]
  },
  {
   "cell_type": "markdown",
   "metadata": {},
   "source": [
    "# Results"
   ]
  },
  {
   "cell_type": "code",
   "execution_count": 26,
   "metadata": {},
   "outputs": [
    {
     "data": {
      "image/png": "[encoded data removed]",
      "text/plain": [
       "<Figure size 432x288 with 1 Axes>"
      ]
     },
     "metadata": {
      "needs_background": "light"
     },
     "output_type": "display_data"
    },
    {
     "data": {
      "image/png": "[encoded data removed]",
      "text/plain": [
       "<Figure size 432x288 with 1 Axes>"
      ]
     },
     "metadata": {
      "needs_background": "light"
     },
     "output_type": "display_data"
    }
   ],
   "source": [
    "plt.plot(hist['loss'], label='loss')\n",
    "plt.plot(hist['val_loss'], label='val_loss')\n",
    "#plt.yscale('log')\n",
    "plt.legend()\n",
    "plt.grid(which='both')\n",
    "plt.show()\n",
    "\n",
    "plt.plot(hist['acc'], label='acc')\n",
    "plt.plot(hist['val_acc'], label='val_acc')\n",
    "#plt.yscale('log')\n",
    "plt.legend()\n",
    "plt.grid(which='both')\n",
    "plt.show()"
   ]
  },
  {
   "cell_type": "code",
   "execution_count": null,
   "metadata": {},
   "outputs": [],
   "source": []
  }
 ],
 "metadata": {
  "kernelspec": {
   "display_name": "Python 3",
   "language": "python",
   "name": "python3"
  },
  "language_info": {
   "codemirror_mode": {
    "name": "ipython",
    "version": 3
   },
   "file_extension": ".py",
   "mimetype": "text/x-python",
   "name": "python",
   "nbconvert_exporter": "python",
   "pygments_lexer": "ipython3",
   "version": "3.7.3"
  }
 },
 "nbformat": 4,
 "nbformat_minor": 2
}
